{
 "cells": [
  {
   "cell_type": "code",
   "execution_count": 1,
   "metadata": {},
   "outputs": [
    {
     "name": "stderr",
     "output_type": "stream",
     "text": [
      "c:\\Users\\User\\miniconda3\\envs\\myenv\\lib\\site-packages\\tqdm\\auto.py:21: TqdmWarning: IProgress not found. Please update jupyter and ipywidgets. See https://ipywidgets.readthedocs.io/en/stable/user_install.html\n",
      "  from .autonotebook import tqdm as notebook_tqdm\n"
     ]
    },
    {
     "name": "stdout",
     "output_type": "stream",
     "text": [
      "Connected. Call `.close()` to terminate connection gracefully.\n",
      "\n",
      "Logged in to project, explore it here https://c.app.hopsworks.ai:443/p/308374\n",
      "Connected. Call `.close()` to terminate connection gracefully.\n"
     ]
    }
   ],
   "source": [
    "import hopsworks\n",
    "from dotenv import load_dotenv\n",
    "import os\n",
    "load_dotenv()\n",
    "api_key = os.getenv(\"HOPSWORKS_API_KEY\")\n",
    "project = hopsworks.login(api_key_value=api_key, project=\"project0\")\n",
    "fs = project.get_feature_store()"
   ]
  },
  {
   "cell_type": "code",
   "execution_count": 2,
   "metadata": {},
   "outputs": [],
   "source": [
    "btc_fg = fs.get_feature_group(name=\"btc\", version=1)\n",
    "query = btc_fg.select_all()\n",
    "# feature_view = fs.get_or_create_feature_view(name=\"btc\",\n",
    "#                                   version=1,\n",
    "#                                   description=\"Read from bitcoin dataset\",\n",
    "#                                   labels=[\"close\"],\n",
    "#                                   query=query)"
   ]
  },
  {
   "cell_type": "code",
   "execution_count": 3,
   "metadata": {},
   "outputs": [
    {
     "data": {
      "text/plain": [
       "<hsfs.constructor.query.Query at 0x12ee7c316f0>"
      ]
     },
     "execution_count": 3,
     "metadata": {},
     "output_type": "execute_result"
    }
   ],
   "source": [
    "feature_join = btc_fg.select([\"open_time\", \"close_time\", 'open', 'high', 'low', 'close', 'volume'])\n",
    "feature_join"
   ]
  },
  {
   "cell_type": "code",
   "execution_count": 4,
   "metadata": {},
   "outputs": [
    {
     "name": "stdout",
     "output_type": "stream",
     "text": [
      "Finished: Reading data from Hopsworks, using ArrowFlight (1.12s) \n"
     ]
    },
    {
     "data": {
      "text/html": [
       "<div>\n",
       "<style scoped>\n",
       "    .dataframe tbody tr th:only-of-type {\n",
       "        vertical-align: middle;\n",
       "    }\n",
       "\n",
       "    .dataframe tbody tr th {\n",
       "        vertical-align: top;\n",
       "    }\n",
       "\n",
       "    .dataframe thead th {\n",
       "        text-align: right;\n",
       "    }\n",
       "</style>\n",
       "<table border=\"1\" class=\"dataframe\">\n",
       "  <thead>\n",
       "    <tr style=\"text-align: right;\">\n",
       "      <th></th>\n",
       "      <th>open_time</th>\n",
       "      <th>close_time</th>\n",
       "      <th>open</th>\n",
       "      <th>high</th>\n",
       "      <th>low</th>\n",
       "      <th>close</th>\n",
       "      <th>volume</th>\n",
       "    </tr>\n",
       "  </thead>\n",
       "  <tbody>\n",
       "    <tr>\n",
       "      <th>0</th>\n",
       "      <td>2020-05-11 00:00:00+00:00</td>\n",
       "      <td>2020-05-11 23:59:59.999000+00:00</td>\n",
       "      <td>8722.77</td>\n",
       "      <td>9168.00</td>\n",
       "      <td>8200.00</td>\n",
       "      <td>8561.52</td>\n",
       "      <td>168807.251832</td>\n",
       "    </tr>\n",
       "    <tr>\n",
       "      <th>1</th>\n",
       "      <td>2020-10-29 00:00:00+00:00</td>\n",
       "      <td>2020-10-29 23:59:59.999000+00:00</td>\n",
       "      <td>13266.40</td>\n",
       "      <td>13642.91</td>\n",
       "      <td>12920.77</td>\n",
       "      <td>13455.70</td>\n",
       "      <td>74872.602132</td>\n",
       "    </tr>\n",
       "    <tr>\n",
       "      <th>2</th>\n",
       "      <td>2021-06-29 00:00:00+00:00</td>\n",
       "      <td>2021-06-29 23:59:59.999000+00:00</td>\n",
       "      <td>34494.89</td>\n",
       "      <td>36600.00</td>\n",
       "      <td>34225.43</td>\n",
       "      <td>35911.73</td>\n",
       "      <td>90788.796220</td>\n",
       "    </tr>\n",
       "    <tr>\n",
       "      <th>3</th>\n",
       "      <td>2018-09-15 00:00:00+00:00</td>\n",
       "      <td>2018-09-15 23:59:59.999000+00:00</td>\n",
       "      <td>6476.63</td>\n",
       "      <td>6565.45</td>\n",
       "      <td>6466.13</td>\n",
       "      <td>6514.96</td>\n",
       "      <td>25243.656612</td>\n",
       "    </tr>\n",
       "    <tr>\n",
       "      <th>4</th>\n",
       "      <td>2018-11-23 00:00:00+00:00</td>\n",
       "      <td>2018-11-23 23:59:59.999000+00:00</td>\n",
       "      <td>4370.90</td>\n",
       "      <td>4484.00</td>\n",
       "      <td>4222.94</td>\n",
       "      <td>4420.61</td>\n",
       "      <td>49371.920322</td>\n",
       "    </tr>\n",
       "    <tr>\n",
       "      <th>...</th>\n",
       "      <td>...</td>\n",
       "      <td>...</td>\n",
       "      <td>...</td>\n",
       "      <td>...</td>\n",
       "      <td>...</td>\n",
       "      <td>...</td>\n",
       "      <td>...</td>\n",
       "    </tr>\n",
       "    <tr>\n",
       "      <th>2173</th>\n",
       "      <td>2023-07-23 00:00:00+00:00</td>\n",
       "      <td>2023-07-23 23:59:59.999000+00:00</td>\n",
       "      <td>29793.99</td>\n",
       "      <td>30350.00</td>\n",
       "      <td>29730.00</td>\n",
       "      <td>30083.75</td>\n",
       "      <td>18292.786370</td>\n",
       "    </tr>\n",
       "    <tr>\n",
       "      <th>2174</th>\n",
       "      <td>2023-12-06 00:00:00+00:00</td>\n",
       "      <td>2023-12-06 23:59:59.999000+00:00</td>\n",
       "      <td>44073.82</td>\n",
       "      <td>44297.21</td>\n",
       "      <td>43335.28</td>\n",
       "      <td>43762.69</td>\n",
       "      <td>51431.104920</td>\n",
       "    </tr>\n",
       "    <tr>\n",
       "      <th>2175</th>\n",
       "      <td>2023-05-03 00:00:00+00:00</td>\n",
       "      <td>2023-05-03 23:59:59.999000+00:00</td>\n",
       "      <td>28669.85</td>\n",
       "      <td>29266.66</td>\n",
       "      <td>28113.69</td>\n",
       "      <td>29026.16</td>\n",
       "      <td>64615.792130</td>\n",
       "    </tr>\n",
       "    <tr>\n",
       "      <th>2176</th>\n",
       "      <td>2018-09-05 00:00:00+00:00</td>\n",
       "      <td>2018-09-05 23:59:59.999000+00:00</td>\n",
       "      <td>7359.05</td>\n",
       "      <td>7397.30</td>\n",
       "      <td>6682.00</td>\n",
       "      <td>6700.00</td>\n",
       "      <td>63715.256267</td>\n",
       "    </tr>\n",
       "    <tr>\n",
       "      <th>2177</th>\n",
       "      <td>2023-12-18 00:00:00+00:00</td>\n",
       "      <td>2023-12-18 23:59:59.999000+00:00</td>\n",
       "      <td>41374.64</td>\n",
       "      <td>41470.10</td>\n",
       "      <td>40542.93</td>\n",
       "      <td>41327.70</td>\n",
       "      <td>27379.517180</td>\n",
       "    </tr>\n",
       "  </tbody>\n",
       "</table>\n",
       "<p>2178 rows × 7 columns</p>\n",
       "</div>"
      ],
      "text/plain": [
       "                     open_time                       close_time      open  \\\n",
       "0    2020-05-11 00:00:00+00:00 2020-05-11 23:59:59.999000+00:00   8722.77   \n",
       "1    2020-10-29 00:00:00+00:00 2020-10-29 23:59:59.999000+00:00  13266.40   \n",
       "2    2021-06-29 00:00:00+00:00 2021-06-29 23:59:59.999000+00:00  34494.89   \n",
       "3    2018-09-15 00:00:00+00:00 2018-09-15 23:59:59.999000+00:00   6476.63   \n",
       "4    2018-11-23 00:00:00+00:00 2018-11-23 23:59:59.999000+00:00   4370.90   \n",
       "...                        ...                              ...       ...   \n",
       "2173 2023-07-23 00:00:00+00:00 2023-07-23 23:59:59.999000+00:00  29793.99   \n",
       "2174 2023-12-06 00:00:00+00:00 2023-12-06 23:59:59.999000+00:00  44073.82   \n",
       "2175 2023-05-03 00:00:00+00:00 2023-05-03 23:59:59.999000+00:00  28669.85   \n",
       "2176 2018-09-05 00:00:00+00:00 2018-09-05 23:59:59.999000+00:00   7359.05   \n",
       "2177 2023-12-18 00:00:00+00:00 2023-12-18 23:59:59.999000+00:00  41374.64   \n",
       "\n",
       "          high       low     close         volume  \n",
       "0      9168.00   8200.00   8561.52  168807.251832  \n",
       "1     13642.91  12920.77  13455.70   74872.602132  \n",
       "2     36600.00  34225.43  35911.73   90788.796220  \n",
       "3      6565.45   6466.13   6514.96   25243.656612  \n",
       "4      4484.00   4222.94   4420.61   49371.920322  \n",
       "...        ...       ...       ...            ...  \n",
       "2173  30350.00  29730.00  30083.75   18292.786370  \n",
       "2174  44297.21  43335.28  43762.69   51431.104920  \n",
       "2175  29266.66  28113.69  29026.16   64615.792130  \n",
       "2176   7397.30   6682.00   6700.00   63715.256267  \n",
       "2177  41470.10  40542.93  41327.70   27379.517180  \n",
       "\n",
       "[2178 rows x 7 columns]"
      ]
     },
     "execution_count": 4,
     "metadata": {},
     "output_type": "execute_result"
    }
   ],
   "source": [
    "df = feature_join.read(online=False, dataframe_type=\"default\", read_options={})\n",
    "df"
   ]
  },
  {
   "cell_type": "code",
   "execution_count": 5,
   "metadata": {},
   "outputs": [
    {
     "data": {
      "text/html": [
       "<div>\n",
       "<style scoped>\n",
       "    .dataframe tbody tr th:only-of-type {\n",
       "        vertical-align: middle;\n",
       "    }\n",
       "\n",
       "    .dataframe tbody tr th {\n",
       "        vertical-align: top;\n",
       "    }\n",
       "\n",
       "    .dataframe thead th {\n",
       "        text-align: right;\n",
       "    }\n",
       "</style>\n",
       "<table border=\"1\" class=\"dataframe\">\n",
       "  <thead>\n",
       "    <tr style=\"text-align: right;\">\n",
       "      <th></th>\n",
       "      <th>open_time</th>\n",
       "      <th>close_time</th>\n",
       "      <th>open</th>\n",
       "      <th>high</th>\n",
       "      <th>low</th>\n",
       "      <th>close</th>\n",
       "      <th>volume</th>\n",
       "    </tr>\n",
       "  </thead>\n",
       "  <tbody>\n",
       "    <tr>\n",
       "      <th>0</th>\n",
       "      <td>2018-01-01 00:00:00+00:00</td>\n",
       "      <td>2018-01-01 23:59:59.999000+00:00</td>\n",
       "      <td>13715.65</td>\n",
       "      <td>13818.55</td>\n",
       "      <td>12750.00</td>\n",
       "      <td>13380.00</td>\n",
       "      <td>8609.915844</td>\n",
       "    </tr>\n",
       "    <tr>\n",
       "      <th>1</th>\n",
       "      <td>2018-01-02 00:00:00+00:00</td>\n",
       "      <td>2018-01-02 23:59:59.999000+00:00</td>\n",
       "      <td>13382.16</td>\n",
       "      <td>15473.49</td>\n",
       "      <td>12890.02</td>\n",
       "      <td>14675.11</td>\n",
       "      <td>20078.092111</td>\n",
       "    </tr>\n",
       "    <tr>\n",
       "      <th>2</th>\n",
       "      <td>2018-01-03 00:00:00+00:00</td>\n",
       "      <td>2018-01-03 23:59:59.999000+00:00</td>\n",
       "      <td>14690.00</td>\n",
       "      <td>15307.56</td>\n",
       "      <td>14150.00</td>\n",
       "      <td>14919.51</td>\n",
       "      <td>15905.667639</td>\n",
       "    </tr>\n",
       "    <tr>\n",
       "      <th>3</th>\n",
       "      <td>2018-01-04 00:00:00+00:00</td>\n",
       "      <td>2018-01-04 23:59:59.999000+00:00</td>\n",
       "      <td>14919.51</td>\n",
       "      <td>15280.00</td>\n",
       "      <td>13918.04</td>\n",
       "      <td>15059.54</td>\n",
       "      <td>21329.649574</td>\n",
       "    </tr>\n",
       "    <tr>\n",
       "      <th>4</th>\n",
       "      <td>2018-01-05 00:00:00+00:00</td>\n",
       "      <td>2018-01-05 23:59:59.999000+00:00</td>\n",
       "      <td>15059.56</td>\n",
       "      <td>17176.24</td>\n",
       "      <td>14600.00</td>\n",
       "      <td>16960.39</td>\n",
       "      <td>23251.491125</td>\n",
       "    </tr>\n",
       "    <tr>\n",
       "      <th>...</th>\n",
       "      <td>...</td>\n",
       "      <td>...</td>\n",
       "      <td>...</td>\n",
       "      <td>...</td>\n",
       "      <td>...</td>\n",
       "      <td>...</td>\n",
       "      <td>...</td>\n",
       "    </tr>\n",
       "    <tr>\n",
       "      <th>2173</th>\n",
       "      <td>2023-12-14 00:00:00+00:00</td>\n",
       "      <td>2023-12-14 23:59:59.999000+00:00</td>\n",
       "      <td>42869.03</td>\n",
       "      <td>43420.00</td>\n",
       "      <td>41400.00</td>\n",
       "      <td>43022.26</td>\n",
       "      <td>42047.057090</td>\n",
       "    </tr>\n",
       "    <tr>\n",
       "      <th>2174</th>\n",
       "      <td>2023-12-15 00:00:00+00:00</td>\n",
       "      <td>2023-12-15 23:59:59.999000+00:00</td>\n",
       "      <td>43022.26</td>\n",
       "      <td>43080.81</td>\n",
       "      <td>41666.00</td>\n",
       "      <td>41940.30</td>\n",
       "      <td>33421.793200</td>\n",
       "    </tr>\n",
       "    <tr>\n",
       "      <th>2175</th>\n",
       "      <td>2023-12-16 00:00:00+00:00</td>\n",
       "      <td>2023-12-16 23:59:59.999000+00:00</td>\n",
       "      <td>41940.29</td>\n",
       "      <td>42724.43</td>\n",
       "      <td>41605.00</td>\n",
       "      <td>42278.03</td>\n",
       "      <td>24118.857470</td>\n",
       "    </tr>\n",
       "    <tr>\n",
       "      <th>2176</th>\n",
       "      <td>2023-12-17 00:00:00+00:00</td>\n",
       "      <td>2023-12-17 23:59:59.999000+00:00</td>\n",
       "      <td>42278.02</td>\n",
       "      <td>42424.07</td>\n",
       "      <td>41510.00</td>\n",
       "      <td>41718.89</td>\n",
       "      <td>24880.677920</td>\n",
       "    </tr>\n",
       "    <tr>\n",
       "      <th>2177</th>\n",
       "      <td>2023-12-18 00:00:00+00:00</td>\n",
       "      <td>2023-12-18 23:59:59.999000+00:00</td>\n",
       "      <td>41374.64</td>\n",
       "      <td>41470.10</td>\n",
       "      <td>40542.93</td>\n",
       "      <td>41327.70</td>\n",
       "      <td>27379.517180</td>\n",
       "    </tr>\n",
       "  </tbody>\n",
       "</table>\n",
       "<p>2178 rows × 7 columns</p>\n",
       "</div>"
      ],
      "text/plain": [
       "                     open_time                       close_time      open  \\\n",
       "0    2018-01-01 00:00:00+00:00 2018-01-01 23:59:59.999000+00:00  13715.65   \n",
       "1    2018-01-02 00:00:00+00:00 2018-01-02 23:59:59.999000+00:00  13382.16   \n",
       "2    2018-01-03 00:00:00+00:00 2018-01-03 23:59:59.999000+00:00  14690.00   \n",
       "3    2018-01-04 00:00:00+00:00 2018-01-04 23:59:59.999000+00:00  14919.51   \n",
       "4    2018-01-05 00:00:00+00:00 2018-01-05 23:59:59.999000+00:00  15059.56   \n",
       "...                        ...                              ...       ...   \n",
       "2173 2023-12-14 00:00:00+00:00 2023-12-14 23:59:59.999000+00:00  42869.03   \n",
       "2174 2023-12-15 00:00:00+00:00 2023-12-15 23:59:59.999000+00:00  43022.26   \n",
       "2175 2023-12-16 00:00:00+00:00 2023-12-16 23:59:59.999000+00:00  41940.29   \n",
       "2176 2023-12-17 00:00:00+00:00 2023-12-17 23:59:59.999000+00:00  42278.02   \n",
       "2177 2023-12-18 00:00:00+00:00 2023-12-18 23:59:59.999000+00:00  41374.64   \n",
       "\n",
       "          high       low     close        volume  \n",
       "0     13818.55  12750.00  13380.00   8609.915844  \n",
       "1     15473.49  12890.02  14675.11  20078.092111  \n",
       "2     15307.56  14150.00  14919.51  15905.667639  \n",
       "3     15280.00  13918.04  15059.54  21329.649574  \n",
       "4     17176.24  14600.00  16960.39  23251.491125  \n",
       "...        ...       ...       ...           ...  \n",
       "2173  43420.00  41400.00  43022.26  42047.057090  \n",
       "2174  43080.81  41666.00  41940.30  33421.793200  \n",
       "2175  42724.43  41605.00  42278.03  24118.857470  \n",
       "2176  42424.07  41510.00  41718.89  24880.677920  \n",
       "2177  41470.10  40542.93  41327.70  27379.517180  \n",
       "\n",
       "[2178 rows x 7 columns]"
      ]
     },
     "execution_count": 5,
     "metadata": {},
     "output_type": "execute_result"
    }
   ],
   "source": [
    "df_sorted = df.sort_values(by='open_time')\n",
    "df = df_sorted.reset_index(drop=True)\n",
    "df"
   ]
  },
  {
   "cell_type": "code",
   "execution_count": 6,
   "metadata": {},
   "outputs": [],
   "source": [
    "#df.to_csv('btc.csv', index=False)"
   ]
  },
  {
   "cell_type": "markdown",
   "metadata": {},
   "source": [
    "**Process data and create a predictive model**"
   ]
  },
  {
   "cell_type": "code",
   "execution_count": 7,
   "metadata": {},
   "outputs": [
    {
     "name": "stderr",
     "output_type": "stream",
     "text": [
      "DeprecationWarning: `np.bool8` is a deprecated alias for `np.bool_`.  (Deprecated NumPy 1.24)\n",
      "DeprecationWarning: `np.bool8` is a deprecated alias for `np.bool_`.  (Deprecated NumPy 1.24)\n"
     ]
    }
   ],
   "source": [
    "from sklearn.preprocessing import MinMaxScaler\n",
    "from tensorflow.keras.layers import Dense, Dropout, LSTM, BatchNormalization, LayerNormalization\n",
    "from tensorflow.keras.models import Sequential\n",
    "import pandas as pd\n",
    "import numpy as np\n",
    "import datetime as dt\n",
    "import mplfinance as mpf \n",
    "import matplotlib.pyplot as plt"
   ]
  },
  {
   "cell_type": "code",
   "execution_count": 8,
   "metadata": {},
   "outputs": [
    {
     "data": {
      "text/plain": [
       "array([13380.  , 14675.11, 14919.51, ..., 42278.03, 41718.89, 41327.7 ])"
      ]
     },
     "execution_count": 8,
     "metadata": {},
     "output_type": "execute_result"
    }
   ],
   "source": [
    "historical_df = df.set_index(\"open_time\")\n",
    "historical_df = historical_df[\"close\"].values\n",
    "historical_df"
   ]
  },
  {
   "cell_type": "code",
   "execution_count": 9,
   "metadata": {},
   "outputs": [],
   "source": [
    "n_historical_days = 100\n",
    "n_prediction_days = 1"
   ]
  },
  {
   "cell_type": "code",
   "execution_count": 10,
   "metadata": {},
   "outputs": [
    {
     "data": {
      "text/plain": [
       "(2077, 100, 1)"
      ]
     },
     "execution_count": 10,
     "metadata": {},
     "output_type": "execute_result"
    }
   ],
   "source": [
    "X, y = [], []\n",
    "for x in range(n_historical_days, len(historical_df) - n_prediction_days):\n",
    "    X.append(historical_df[x - n_historical_days:x])\n",
    "    y.append(historical_df[x:x + n_prediction_days])\n",
    "\n",
    "X, y = np.array(X)[..., np.newaxis], np.array(y)\n",
    "X.shape"
   ]
  },
  {
   "cell_type": "code",
   "execution_count": 11,
   "metadata": {},
   "outputs": [],
   "source": [
    "from sklearn.model_selection import train_test_split\n",
    "from sklearn.utils import shuffle\n",
    "X_train, X_test, y_train, y_test = train_test_split(X, y, test_size=0.2, random_state=0, shuffle=False)"
   ]
  },
  {
   "cell_type": "code",
   "execution_count": 67,
   "metadata": {},
   "outputs": [],
   "source": [
    "# Normalization (min-max scaling between -1 and 1)\n",
    "data_max, data_min = max(X_train.max(), y_train.max()), min(X_train.min(), y_train.min())\n",
    "\n",
    "def scale(data):\n",
    "    return (data - data_min) / (data_max - data_min) * 2 - 1\n",
    "\n",
    "def unscale(data):\n",
    "    return (data + 1) / 2 * (data_max - data_min) + data_min\n",
    "\n",
    "X_train, y_train = scale(X_train), scale(y_train)\n",
    "X_test, y_test = scale(X_test), scale(y_test)"
   ]
  },
  {
   "cell_type": "code",
   "execution_count": 13,
   "metadata": {},
   "outputs": [],
   "source": [
    "# Shuffle\n",
    "X_train , y_train = shuffle(X_train, y_train)"
   ]
  },
  {
   "cell_type": "markdown",
   "metadata": {},
   "source": [
    "**Create the Neural Network**"
   ]
  },
  {
   "cell_type": "code",
   "execution_count": 46,
   "metadata": {},
   "outputs": [
    {
     "name": "stdout",
     "output_type": "stream",
     "text": [
      "Epoch 1/10\n",
      "52/52 [==============================] - 7s 55ms/step - loss: 0.0504 - val_loss: 0.0033\n",
      "Epoch 2/10\n",
      "52/52 [==============================] - 2s 42ms/step - loss: 0.0104 - val_loss: 0.0022\n",
      "Epoch 3/10\n",
      "52/52 [==============================] - 2s 45ms/step - loss: 0.0096 - val_loss: 0.0020\n",
      "Epoch 4/10\n",
      "52/52 [==============================] - 3s 59ms/step - loss: 0.0089 - val_loss: 0.0021\n",
      "Epoch 5/10\n",
      "52/52 [==============================] - 3s 59ms/step - loss: 0.0088 - val_loss: 0.0018\n",
      "Epoch 6/10\n",
      "52/52 [==============================] - 3s 57ms/step - loss: 0.0080 - val_loss: 0.0017\n",
      "Epoch 7/10\n",
      "52/52 [==============================] - 3s 57ms/step - loss: 0.0071 - val_loss: 0.0016\n",
      "Epoch 8/10\n",
      "52/52 [==============================] - 3s 61ms/step - loss: 0.0077 - val_loss: 0.0017\n",
      "Epoch 9/10\n",
      "52/52 [==============================] - 3s 60ms/step - loss: 0.0067 - val_loss: 0.0016\n",
      "Epoch 10/10\n",
      "52/52 [==============================] - 3s 54ms/step - loss: 0.0068 - val_loss: 0.0015\n"
     ]
    },
    {
     "data": {
      "text/plain": [
       "<keras.callbacks.History at 0x12ec66ac3d0>"
      ]
     },
     "execution_count": 46,
     "metadata": {},
     "output_type": "execute_result"
    }
   ],
   "source": [
    "model = Sequential()\n",
    "model.add(LSTM(units=50, return_sequences=True, input_shape=(X_train.shape[1:])))\n",
    "model.add(Dropout(0.2))\n",
    "model.add(LSTM(units=50, return_sequences=False))\n",
    "model.add(Dropout(0.2))\n",
    "model.add(Dense(units=1))\n",
    "\n",
    "model.compile(optimizer='adam', loss='mean_squared_error')\n",
    "model.fit(\n",
    "    X_train,\n",
    "    y_train,\n",
    "    epochs=10,\n",
    "    batch_size=32,\n",
    "    validation_data=(X_test, y_test)\n",
    "    )\n"
   ]
  },
  {
   "cell_type": "code",
   "execution_count": 47,
   "metadata": {},
   "outputs": [
    {
     "name": "stdout",
     "output_type": "stream",
     "text": [
      "Model: \"sequential_7\"\n",
      "_________________________________________________________________\n",
      " Layer (type)                Output Shape              Param #   \n",
      "=================================================================\n",
      " lstm_12 (LSTM)              (None, 100, 50)           10400     \n",
      "                                                                 \n",
      " dropout_6 (Dropout)         (None, 100, 50)           0         \n",
      "                                                                 \n",
      " lstm_13 (LSTM)              (None, 50)                20200     \n",
      "                                                                 \n",
      " dropout_7 (Dropout)         (None, 50)                0         \n",
      "                                                                 \n",
      " dense_6 (Dense)             (None, 1)                 51        \n",
      "                                                                 \n",
      "=================================================================\n",
      "Total params: 30,651\n",
      "Trainable params: 30,651\n",
      "Non-trainable params: 0\n",
      "_________________________________________________________________\n"
     ]
    }
   ],
   "source": [
    "model.summary()"
   ]
  },
  {
   "cell_type": "markdown",
   "metadata": {},
   "source": [
    "**Test the Model**"
   ]
  },
  {
   "cell_type": "code",
   "execution_count": 49,
   "metadata": {},
   "outputs": [],
   "source": [
    "actual_prices_scaled = y_test[:, -1]\n",
    "# actual_prices_scaled"
   ]
  },
  {
   "cell_type": "code",
   "execution_count": 50,
   "metadata": {},
   "outputs": [
    {
     "name": "stdout",
     "output_type": "stream",
     "text": [
      "13/13 [==============================] - 1s 15ms/step\n"
     ]
    }
   ],
   "source": [
    "prediction_prices_scaled = model.predict(X_test)[:, -1]\n",
    "# prediction_prices_scaled"
   ]
  },
  {
   "cell_type": "code",
   "execution_count": 51,
   "metadata": {},
   "outputs": [],
   "source": [
    "# Perform the inverse scaling.\n",
    "prediction_prices =  unscale(prediction_prices_scaled)"
   ]
  },
  {
   "cell_type": "code",
   "execution_count": 52,
   "metadata": {},
   "outputs": [],
   "source": [
    "actual_prices = unscale(actual_prices_scaled)"
   ]
  },
  {
   "cell_type": "markdown",
   "metadata": {},
   "source": [
    "**Plot model**"
   ]
  },
  {
   "cell_type": "code",
   "execution_count": 53,
   "metadata": {},
   "outputs": [
    {
     "data": {
      "image/png": "[encoded data removed]",
      "text/plain": [
       "<Figure size 2000x500 with 1 Axes>"
      ]
     },
     "metadata": {},
     "output_type": "display_data"
    }
   ],
   "source": [
    "plt.figure(figsize=(20, 5))\n",
    "plt.plot(actual_prices, color=\"black\", label=\"Actual Prices\")\n",
    "plt.plot(prediction_prices , color=\"green\", label=\"Predicted prices\")\n",
    "plt.title(\"ETHBTC Price Prediction\")\n",
    "plt.xlabel(\"Time\")\n",
    "plt.ylabel(\"Price\")\n",
    "plt.legend(loc=\"upper left\")\n",
    "plt.show()"
   ]
  },
  {
   "cell_type": "code",
   "execution_count": 54,
   "metadata": {},
   "outputs": [
    {
     "data": {
      "text/plain": [
       "1258.0530089966023"
      ]
     },
     "execution_count": 54,
     "metadata": {},
     "output_type": "execute_result"
    }
   ],
   "source": [
    "from sklearn.metrics import mean_squared_error\n",
    "mse = mean_squared_error(actual_prices, prediction_prices)\n",
    "np.sqrt(mse)"
   ]
  },
  {
   "cell_type": "markdown",
   "metadata": {},
   "source": [
    "**Delete model**"
   ]
  },
  {
   "cell_type": "code",
   "execution_count": 55,
   "metadata": {},
   "outputs": [],
   "source": [
    "# mr = project.get_model_registry()\n",
    "# model_old = mr.get_model(\"btc_model\", version=1)\n",
    "# model_old.delete()"
   ]
  },
  {
   "cell_type": "markdown",
   "metadata": {},
   "source": [
    "**Register the model**"
   ]
  },
  {
   "cell_type": "code",
   "execution_count": 56,
   "metadata": {},
   "outputs": [
    {
     "data": {
      "text/plain": [
       "<keras.engine.sequential.Sequential at 0x12ed8240910>"
      ]
     },
     "execution_count": 56,
     "metadata": {},
     "output_type": "execute_result"
    }
   ],
   "source": [
    "model"
   ]
  },
  {
   "cell_type": "code",
   "execution_count": 59,
   "metadata": {},
   "outputs": [
    {
     "name": "stdout",
     "output_type": "stream",
     "text": [
      "Connected. Call `.close()` to terminate connection gracefully.\n"
     ]
    },
    {
     "name": "stderr",
     "output_type": "stream",
     "text": [
      "Uploading: 100.000%|██████████| 414024/414024 elapsed<00:02 remaining<00:00  2.44it/s]\n",
      "Model export complete: 100%|██████████| 6/6 [00:08<00:00,  1.46s/it]                   "
     ]
    },
    {
     "name": "stdout",
     "output_type": "stream",
     "text": [
      "Model created, explore it at https://c.app.hopsworks.ai:443/p/308374/models/btc_model/1\n"
     ]
    },
    {
     "name": "stderr",
     "output_type": "stream",
     "text": [
      "\n"
     ]
    },
    {
     "data": {
      "text/plain": [
       "Model(name: 'btc_model', version: 1)"
      ]
     },
     "execution_count": 59,
     "metadata": {},
     "output_type": "execute_result"
    }
   ],
   "source": [
    "mr = project.get_model_registry()\n",
    "model_dir=\"btc_model\"\n",
    "if os.path.isdir(model_dir) == False:\n",
    "    os.mkdir(model_dir)\n",
    "\n",
    "# Save the model\n",
    "model.save(model_dir + '/btc_model.h5')  # creates a HDF5 file 'btc_model.h5'\n",
    "\n",
    "btc_model = mr.python.create_model(\n",
    "    name=\"btc_model\",\n",
    "    metrics = {\"MSE\": mse},\n",
    "    description=\"Bitcoin/USD value predictor\"\n",
    ")\n",
    "\n",
    "btc_model.save(model_dir)"
   ]
  }
 ],
 "metadata": {
  "kernelspec": {
   "display_name": "Python 3.10.13 ('myenv')",
   "language": "python",
   "name": "python3"
  },
  "language_info": {
   "codemirror_mode": {
    "name": "ipython",
    "version": 3
   },
   "file_extension": ".py",
   "mimetype": "text/x-python",
   "name": "python",
   "nbconvert_exporter": "python",
   "pygments_lexer": "ipython3",
   "version": "3.10.13"
  },
  "orig_nbformat": 4,
  "vscode": {
   "interpreter": {
    "hash": "3cf986cef2fa546fe3f032498b7ba99e6f6a2a5fb52d18405c2d075f2b997d72"
   }
  }
 },
 "nbformat": 4,
 "nbformat_minor": 2
}

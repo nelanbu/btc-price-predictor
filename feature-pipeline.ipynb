{
 "cells": [
  {
   "cell_type": "markdown",
   "metadata": {},
   "source": [
    "##### Feature pipeline\n",
    "- Register the arranged data to hopsworks \n",
    "\n",
    "#### Training pipeline\n",
    "- read it from hopsworks in training pipeline and split into test train\n",
    "- train the model\n",
    "- evaluate the model\n",
    "- register to hopsworks again\n",
    "\n",
    "#### Daily inference pipeline\n",
    "- get last data and put to hopsworks\n",
    "\n",
    "#### UI\n",
    "- get the recent data from hopsworks\n",
    "- get user input (how many days the prediction will be)\n",
    "- predict and plot  \n"
   ]
  },
  {
   "cell_type": "code",
   "execution_count": null,
   "metadata": {},
   "outputs": [],
   "source": [
    "import configparser\n",
    "from binance import Client, ThreadedWebsocketManager, ThreadedDepthCacheManager\n",
    "import pandas as pd\n",
    "import numpy as np\n",
    "import datetime as dt\n",
    "import hopsworks"
   ]
  },
  {
   "cell_type": "code",
   "execution_count": null,
   "metadata": {},
   "outputs": [],
   "source": [
    "from dotenv import load_dotenv\n",
    "import os\n",
    "load_dotenv()\n",
    "api_key = os.getenv(\"HOPSWORKS_API_KEY\")\n",
    "project = hopsworks.login(api_key_value=api_key, project=\"project0\")\n",
    "fs = project.get_feature_store()"
   ]
  },
  {
   "cell_type": "code",
   "execution_count": null,
   "metadata": {},
   "outputs": [],
   "source": [
    "#read configs\n",
    "config = configparser.ConfigParser()\n",
    "config_file_path = \"C:/Users/User/Desktop/mldl/project/config.ini\"  # Replace with the actual path to your config.ini file\n",
    "config.read(config_file_path)\n",
    "config.read(\"config.ini\") #The Config.ini file we just created"
   ]
  },
  {
   "cell_type": "code",
   "execution_count": null,
   "metadata": {},
   "outputs": [],
   "source": [
    "api_key = config[\"binance\"][\"api_key\"]\n",
    "api_secret = config[\"binance\"][\"api_secret\"]"
   ]
  },
  {
   "cell_type": "code",
   "execution_count": null,
   "metadata": {},
   "outputs": [],
   "source": [
    "client = Client(api_key, api_secret)"
   ]
  },
  {
   "cell_type": "code",
   "execution_count": null,
   "metadata": {},
   "outputs": [],
   "source": [
    "tickers = client.get_all_tickers()\n",
    "tickers #This is used to get the entire tickets available on Binance"
   ]
  },
  {
   "cell_type": "code",
   "execution_count": null,
   "metadata": {},
   "outputs": [],
   "source": [
    "#Wrap the data into a pandas dataFrame\n",
    "binance_df = pd.DataFrame(tickers)\n",
    "binance_df.head()"
   ]
  },
  {
   "cell_type": "code",
   "execution_count": null,
   "metadata": {},
   "outputs": [],
   "source": [
    "#Let make the Symbol the Index value\n",
    "binance_df.set_index(\"symbol\", inplace=True)\n",
    "binance_df"
   ]
  },
  {
   "cell_type": "code",
   "execution_count": null,
   "metadata": {},
   "outputs": [],
   "source": [
    "float(binance_df.loc[\"BTCUSDT\"][\"price\"])"
   ]
  },
  {
   "cell_type": "code",
   "execution_count": null,
   "metadata": {},
   "outputs": [],
   "source": [
    "depth = client.get_order_book(symbol=\"BTCUSDT\")\n",
    "depth"
   ]
  },
  {
   "cell_type": "code",
   "execution_count": null,
   "metadata": {},
   "outputs": [],
   "source": [
    "depth_df = pd.DataFrame(depth['bids'])\n",
    "depth_df.columns = [\"Price\",\"Volume\"]\n",
    "depth_df.head()"
   ]
  },
  {
   "cell_type": "markdown",
   "metadata": {},
   "source": [
    "**Get historical data**"
   ]
  },
  {
   "cell_type": "code",
   "execution_count": null,
   "metadata": {},
   "outputs": [],
   "source": [
    "historical_data = client.get_historical_klines(\"BTCUSDT\", Client.KLINE_INTERVAL_1DAY, \"1 Jan 2018\")\n",
    "historical_data"
   ]
  },
  {
   "cell_type": "code",
   "execution_count": null,
   "metadata": {},
   "outputs": [],
   "source": [
    "historical_df = pd.DataFrame(historical_data)\n",
    "\n",
    "\n",
    "historical_df.columns = [\"Open time\",\"Open\",\"High\",\"Low\",\"Close\",\"Volume\",\"Close time\",\"Quote asset volume\",\"Number of trades\",\n",
    "                   \"Taker buy base asset volume\",\"Taker buy quote asset volume\",\"Ignore\"]\n",
    "                  \n",
    "historical_df.head() "
   ]
  },
  {
   "cell_type": "code",
   "execution_count": null,
   "metadata": {},
   "outputs": [],
   "source": [
    "historical_df.info()"
   ]
  },
  {
   "cell_type": "markdown",
   "metadata": {},
   "source": [
    "**Data Transformation & Preprocessing**"
   ]
  },
  {
   "cell_type": "code",
   "execution_count": null,
   "metadata": {},
   "outputs": [],
   "source": [
    "#We need to convert the Time from Object to datetime format\n",
    "historical_df[\"Open time\"] = pd.to_datetime(historical_df[\"Open time\"]/1000, unit=\"s\")\n",
    "historical_df[\"Close time\"] = pd.to_datetime(historical_df[\"Close time\"]/1000, unit=\"s\")"
   ]
  },
  {
   "cell_type": "code",
   "execution_count": null,
   "metadata": {},
   "outputs": [],
   "source": [
    "#Covert others to float datatype\n",
    "numeric_columns = [\"Open\",\"High\",\"Low\",\"Close\",\"Volume\",\"Quote asset volume\",\n",
    "                   \"Taker buy base asset volume\",\"Taker buy quote asset volume\",\"Ignore\"]"
   ]
  },
  {
   "cell_type": "code",
   "execution_count": null,
   "metadata": {},
   "outputs": [],
   "source": [
    "historical_df[numeric_columns] = historical_df[numeric_columns].apply(pd.to_numeric, axis=1)"
   ]
  },
  {
   "cell_type": "code",
   "execution_count": null,
   "metadata": {},
   "outputs": [],
   "source": [
    "historical_df.dtypes"
   ]
  },
  {
   "cell_type": "code",
   "execution_count": null,
   "metadata": {},
   "outputs": [],
   "source": [
    "historical_df.describe() # This used to get the statistical analysis"
   ]
  },
  {
   "cell_type": "markdown",
   "metadata": {},
   "source": [
    "**Data Visualization**"
   ]
  },
  {
   "cell_type": "code",
   "execution_count": null,
   "metadata": {},
   "outputs": [],
   "source": [
    "import mplfinance as mpf \n",
    "import matplotlib.pyplot as plt"
   ]
  },
  {
   "cell_type": "code",
   "execution_count": null,
   "metadata": {},
   "outputs": [],
   "source": [
    "mpf.plot(historical_df.set_index(\"Close time\").tail(200))"
   ]
  },
  {
   "cell_type": "code",
   "execution_count": null,
   "metadata": {},
   "outputs": [],
   "source": [
    "mpf.plot(historical_df.set_index(\"Close time\").tail(200),type=\"candle\", style=\"charles\", volume=True,title=\"BTCUSDT Last 200 Days\",\n",
    "    mav=(10,20,30))"
   ]
  },
  {
   "cell_type": "markdown",
   "metadata": {},
   "source": [
    "**Save features to hopsworks**"
   ]
  },
  {
   "cell_type": "code",
   "execution_count": null,
   "metadata": {},
   "outputs": [],
   "source": [
    "historical_df = historical_df.drop('Ignore', axis=1)\n",
    "historical_df.columns = historical_df.columns.str.lower().str.replace(' ', '_')\n",
    "historical_df"
   ]
  },
  {
   "cell_type": "code",
   "execution_count": null,
   "metadata": {},
   "outputs": [],
   "source": [
    "btc_fg = fs.get_or_create_feature_group(\n",
    "    name=\"btc\",\n",
    "    version=1,\n",
    "    primary_key=[\"open\",\"high\",\"low\",\"close\",\"volume\",\"quote_asset_volume\",\n",
    "                   \"taker_buy_base_asset_volume\",\"taker_buy_quote_asset_volume\"], \n",
    "    description=\"bitcoin historical data since january 2018\")\n",
    "btc_fg.insert(historical_df)"
   ]
  }
 ],
 "metadata": {
  "kernelspec": {
   "display_name": "Python 3.10.13 ('myenv')",
   "language": "python",
   "name": "python3"
  },
  "language_info": {
   "codemirror_mode": {
    "name": "ipython",
    "version": 3
   },
   "file_extension": ".py",
   "mimetype": "text/x-python",
   "name": "python",
   "nbconvert_exporter": "python",
   "pygments_lexer": "ipython3",
   "version": "3.10.13"
  },
  "orig_nbformat": 4,
  "vscode": {
   "interpreter": {
    "hash": "3cf986cef2fa546fe3f032498b7ba99e6f6a2a5fb52d18405c2d075f2b997d72"
   }
  }
 },
 "nbformat": 4,
 "nbformat_minor": 2
}
